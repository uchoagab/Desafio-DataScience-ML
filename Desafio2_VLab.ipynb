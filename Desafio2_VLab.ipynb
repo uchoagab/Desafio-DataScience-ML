{
  "nbformat": 4,
  "nbformat_minor": 0,
  "metadata": {
    "colab": {
      "provenance": [],
      "authorship_tag": "ABX9TyNy84edhARhRhNR5Tad2gZG",
      "include_colab_link": true
    },
    "kernelspec": {
      "name": "python3",
      "display_name": "Python 3"
    },
    "language_info": {
      "name": "python"
    }
  },
  "cells": [
    {
      "cell_type": "markdown",
      "metadata": {
        "id": "view-in-github",
        "colab_type": "text"
      },
      "source": [
        "<a href=\"https://colab.research.google.com/github/uchoagab/Desafio-VLab/blob/load_dataset/Desafio2_VLab.ipynb\" target=\"_parent\"><img src=\"https://colab.research.google.com/assets/colab-badge.svg\" alt=\"Open In Colab\"/></a>"
      ]
    },
    {
      "cell_type": "markdown",
      "source": [
        "# Carregamento e Limpeza do dataset"
      ],
      "metadata": {
        "id": "nUdUTT07ri6B"
      }
    },
    {
      "cell_type": "markdown",
      "source": [
        "**Importação de todos os componentes necessários para a análise. O dataset \"GoodReads 100k books\" (https://www.kaggle.com/datasets/mdhamani/goodreads-books-100k) foi baixado localmente e subido para o Colab.**"
      ],
      "metadata": {
        "id": "cxJKqIWDrc7U"
      }
    },
    {
      "cell_type": "code",
      "execution_count": 52,
      "metadata": {
        "id": "lielAwoAbOoC"
      },
      "outputs": [],
      "source": [
        "import pandas as pd\n",
        "import numpy as np"
      ]
    },
    {
      "cell_type": "code",
      "source": [
        "df = pd.read_csv('sample_data/GoodReads_100k_books.csv')"
      ],
      "metadata": {
        "id": "WKKbeX33fi8i"
      },
      "execution_count": 53,
      "outputs": []
    },
    {
      "cell_type": "code",
      "source": [
        "df.info()\n",
        "df.describe()"
      ],
      "metadata": {
        "colab": {
          "base_uri": "https://localhost:8080/",
          "height": 667
        },
        "id": "OynU1uownqQz",
        "outputId": "493cd3ce-868e-4e98-dbeb-b62b0b36abd7"
      },
      "execution_count": 54,
      "outputs": [
        {
          "output_type": "stream",
          "name": "stdout",
          "text": [
            "<class 'pandas.core.frame.DataFrame'>\n",
            "RangeIndex: 100000 entries, 0 to 99999\n",
            "Data columns (total 13 columns):\n",
            " #   Column        Non-Null Count   Dtype  \n",
            "---  ------        --------------   -----  \n",
            " 0   author        100000 non-null  object \n",
            " 1   bookformat    96772 non-null   object \n",
            " 2   desc          93228 non-null   object \n",
            " 3   genre         89533 non-null   object \n",
            " 4   img           96955 non-null   object \n",
            " 5   isbn          85518 non-null   object \n",
            " 6   isbn13        88565 non-null   object \n",
            " 7   link          100000 non-null  object \n",
            " 8   pages         100000 non-null  int64  \n",
            " 9   rating        100000 non-null  float64\n",
            " 10  reviews       100000 non-null  int64  \n",
            " 11  title         99999 non-null   object \n",
            " 12  totalratings  100000 non-null  int64  \n",
            "dtypes: float64(1), int64(3), object(9)\n",
            "memory usage: 9.9+ MB\n"
          ]
        },
        {
          "output_type": "execute_result",
          "data": {
            "text/plain": [
              "               pages         rating        reviews  totalratings\n",
              "count  100000.000000  100000.000000  100000.000000  1.000000e+05\n",
              "mean      255.010240       3.833055     181.528450  2.990764e+03\n",
              "std       367.913582       0.621237    1449.451229  3.635338e+04\n",
              "min         0.000000       0.000000       0.000000  0.000000e+00\n",
              "25%       135.000000       3.660000       3.000000  3.100000e+01\n",
              "50%       240.000000       3.910000      15.000000  1.460000e+02\n",
              "75%       336.000000       4.140000      67.000000  7.440000e+02\n",
              "max     70000.000000       5.000000  158776.000000  3.819326e+06"
            ],
            "text/html": [
              "\n",
              "  <div id=\"df-0b56e97a-7869-4fe0-93d8-c6a339f5b569\" class=\"colab-df-container\">\n",
              "    <div>\n",
              "<style scoped>\n",
              "    .dataframe tbody tr th:only-of-type {\n",
              "        vertical-align: middle;\n",
              "    }\n",
              "\n",
              "    .dataframe tbody tr th {\n",
              "        vertical-align: top;\n",
              "    }\n",
              "\n",
              "    .dataframe thead th {\n",
              "        text-align: right;\n",
              "    }\n",
              "</style>\n",
              "<table border=\"1\" class=\"dataframe\">\n",
              "  <thead>\n",
              "    <tr style=\"text-align: right;\">\n",
              "      <th></th>\n",
              "      <th>pages</th>\n",
              "      <th>rating</th>\n",
              "      <th>reviews</th>\n",
              "      <th>totalratings</th>\n",
              "    </tr>\n",
              "  </thead>\n",
              "  <tbody>\n",
              "    <tr>\n",
              "      <th>count</th>\n",
              "      <td>100000.000000</td>\n",
              "      <td>100000.000000</td>\n",
              "      <td>100000.000000</td>\n",
              "      <td>1.000000e+05</td>\n",
              "    </tr>\n",
              "    <tr>\n",
              "      <th>mean</th>\n",
              "      <td>255.010240</td>\n",
              "      <td>3.833055</td>\n",
              "      <td>181.528450</td>\n",
              "      <td>2.990764e+03</td>\n",
              "    </tr>\n",
              "    <tr>\n",
              "      <th>std</th>\n",
              "      <td>367.913582</td>\n",
              "      <td>0.621237</td>\n",
              "      <td>1449.451229</td>\n",
              "      <td>3.635338e+04</td>\n",
              "    </tr>\n",
              "    <tr>\n",
              "      <th>min</th>\n",
              "      <td>0.000000</td>\n",
              "      <td>0.000000</td>\n",
              "      <td>0.000000</td>\n",
              "      <td>0.000000e+00</td>\n",
              "    </tr>\n",
              "    <tr>\n",
              "      <th>25%</th>\n",
              "      <td>135.000000</td>\n",
              "      <td>3.660000</td>\n",
              "      <td>3.000000</td>\n",
              "      <td>3.100000e+01</td>\n",
              "    </tr>\n",
              "    <tr>\n",
              "      <th>50%</th>\n",
              "      <td>240.000000</td>\n",
              "      <td>3.910000</td>\n",
              "      <td>15.000000</td>\n",
              "      <td>1.460000e+02</td>\n",
              "    </tr>\n",
              "    <tr>\n",
              "      <th>75%</th>\n",
              "      <td>336.000000</td>\n",
              "      <td>4.140000</td>\n",
              "      <td>67.000000</td>\n",
              "      <td>7.440000e+02</td>\n",
              "    </tr>\n",
              "    <tr>\n",
              "      <th>max</th>\n",
              "      <td>70000.000000</td>\n",
              "      <td>5.000000</td>\n",
              "      <td>158776.000000</td>\n",
              "      <td>3.819326e+06</td>\n",
              "    </tr>\n",
              "  </tbody>\n",
              "</table>\n",
              "</div>\n",
              "    <div class=\"colab-df-buttons\">\n",
              "\n",
              "  <div class=\"colab-df-container\">\n",
              "    <button class=\"colab-df-convert\" onclick=\"convertToInteractive('df-0b56e97a-7869-4fe0-93d8-c6a339f5b569')\"\n",
              "            title=\"Convert this dataframe to an interactive table.\"\n",
              "            style=\"display:none;\">\n",
              "\n",
              "  <svg xmlns=\"http://www.w3.org/2000/svg\" height=\"24px\" viewBox=\"0 -960 960 960\">\n",
              "    <path d=\"M120-120v-720h720v720H120Zm60-500h600v-160H180v160Zm220 220h160v-160H400v160Zm0 220h160v-160H400v160ZM180-400h160v-160H180v160Zm440 0h160v-160H620v160ZM180-180h160v-160H180v160Zm440 0h160v-160H620v160Z\"/>\n",
              "  </svg>\n",
              "    </button>\n",
              "\n",
              "  <style>\n",
              "    .colab-df-container {\n",
              "      display:flex;\n",
              "      gap: 12px;\n",
              "    }\n",
              "\n",
              "    .colab-df-convert {\n",
              "      background-color: #E8F0FE;\n",
              "      border: none;\n",
              "      border-radius: 50%;\n",
              "      cursor: pointer;\n",
              "      display: none;\n",
              "      fill: #1967D2;\n",
              "      height: 32px;\n",
              "      padding: 0 0 0 0;\n",
              "      width: 32px;\n",
              "    }\n",
              "\n",
              "    .colab-df-convert:hover {\n",
              "      background-color: #E2EBFA;\n",
              "      box-shadow: 0px 1px 2px rgba(60, 64, 67, 0.3), 0px 1px 3px 1px rgba(60, 64, 67, 0.15);\n",
              "      fill: #174EA6;\n",
              "    }\n",
              "\n",
              "    .colab-df-buttons div {\n",
              "      margin-bottom: 4px;\n",
              "    }\n",
              "\n",
              "    [theme=dark] .colab-df-convert {\n",
              "      background-color: #3B4455;\n",
              "      fill: #D2E3FC;\n",
              "    }\n",
              "\n",
              "    [theme=dark] .colab-df-convert:hover {\n",
              "      background-color: #434B5C;\n",
              "      box-shadow: 0px 1px 3px 1px rgba(0, 0, 0, 0.15);\n",
              "      filter: drop-shadow(0px 1px 2px rgba(0, 0, 0, 0.3));\n",
              "      fill: #FFFFFF;\n",
              "    }\n",
              "  </style>\n",
              "\n",
              "    <script>\n",
              "      const buttonEl =\n",
              "        document.querySelector('#df-0b56e97a-7869-4fe0-93d8-c6a339f5b569 button.colab-df-convert');\n",
              "      buttonEl.style.display =\n",
              "        google.colab.kernel.accessAllowed ? 'block' : 'none';\n",
              "\n",
              "      async function convertToInteractive(key) {\n",
              "        const element = document.querySelector('#df-0b56e97a-7869-4fe0-93d8-c6a339f5b569');\n",
              "        const dataTable =\n",
              "          await google.colab.kernel.invokeFunction('convertToInteractive',\n",
              "                                                    [key], {});\n",
              "        if (!dataTable) return;\n",
              "\n",
              "        const docLinkHtml = 'Like what you see? Visit the ' +\n",
              "          '<a target=\"_blank\" href=https://colab.research.google.com/notebooks/data_table.ipynb>data table notebook</a>'\n",
              "          + ' to learn more about interactive tables.';\n",
              "        element.innerHTML = '';\n",
              "        dataTable['output_type'] = 'display_data';\n",
              "        await google.colab.output.renderOutput(dataTable, element);\n",
              "        const docLink = document.createElement('div');\n",
              "        docLink.innerHTML = docLinkHtml;\n",
              "        element.appendChild(docLink);\n",
              "      }\n",
              "    </script>\n",
              "  </div>\n",
              "\n",
              "\n",
              "<div id=\"df-4940667c-d4ab-40e2-b301-0c15cc3e3b33\">\n",
              "  <button class=\"colab-df-quickchart\" onclick=\"quickchart('df-4940667c-d4ab-40e2-b301-0c15cc3e3b33')\"\n",
              "            title=\"Suggest charts\"\n",
              "            style=\"display:none;\">\n",
              "\n",
              "<svg xmlns=\"http://www.w3.org/2000/svg\" height=\"24px\"viewBox=\"0 0 24 24\"\n",
              "     width=\"24px\">\n",
              "    <g>\n",
              "        <path d=\"M19 3H5c-1.1 0-2 .9-2 2v14c0 1.1.9 2 2 2h14c1.1 0 2-.9 2-2V5c0-1.1-.9-2-2-2zM9 17H7v-7h2v7zm4 0h-2V7h2v10zm4 0h-2v-4h2v4z\"/>\n",
              "    </g>\n",
              "</svg>\n",
              "  </button>\n",
              "\n",
              "<style>\n",
              "  .colab-df-quickchart {\n",
              "      --bg-color: #E8F0FE;\n",
              "      --fill-color: #1967D2;\n",
              "      --hover-bg-color: #E2EBFA;\n",
              "      --hover-fill-color: #174EA6;\n",
              "      --disabled-fill-color: #AAA;\n",
              "      --disabled-bg-color: #DDD;\n",
              "  }\n",
              "\n",
              "  [theme=dark] .colab-df-quickchart {\n",
              "      --bg-color: #3B4455;\n",
              "      --fill-color: #D2E3FC;\n",
              "      --hover-bg-color: #434B5C;\n",
              "      --hover-fill-color: #FFFFFF;\n",
              "      --disabled-bg-color: #3B4455;\n",
              "      --disabled-fill-color: #666;\n",
              "  }\n",
              "\n",
              "  .colab-df-quickchart {\n",
              "    background-color: var(--bg-color);\n",
              "    border: none;\n",
              "    border-radius: 50%;\n",
              "    cursor: pointer;\n",
              "    display: none;\n",
              "    fill: var(--fill-color);\n",
              "    height: 32px;\n",
              "    padding: 0;\n",
              "    width: 32px;\n",
              "  }\n",
              "\n",
              "  .colab-df-quickchart:hover {\n",
              "    background-color: var(--hover-bg-color);\n",
              "    box-shadow: 0 1px 2px rgba(60, 64, 67, 0.3), 0 1px 3px 1px rgba(60, 64, 67, 0.15);\n",
              "    fill: var(--button-hover-fill-color);\n",
              "  }\n",
              "\n",
              "  .colab-df-quickchart-complete:disabled,\n",
              "  .colab-df-quickchart-complete:disabled:hover {\n",
              "    background-color: var(--disabled-bg-color);\n",
              "    fill: var(--disabled-fill-color);\n",
              "    box-shadow: none;\n",
              "  }\n",
              "\n",
              "  .colab-df-spinner {\n",
              "    border: 2px solid var(--fill-color);\n",
              "    border-color: transparent;\n",
              "    border-bottom-color: var(--fill-color);\n",
              "    animation:\n",
              "      spin 1s steps(1) infinite;\n",
              "  }\n",
              "\n",
              "  @keyframes spin {\n",
              "    0% {\n",
              "      border-color: transparent;\n",
              "      border-bottom-color: var(--fill-color);\n",
              "      border-left-color: var(--fill-color);\n",
              "    }\n",
              "    20% {\n",
              "      border-color: transparent;\n",
              "      border-left-color: var(--fill-color);\n",
              "      border-top-color: var(--fill-color);\n",
              "    }\n",
              "    30% {\n",
              "      border-color: transparent;\n",
              "      border-left-color: var(--fill-color);\n",
              "      border-top-color: var(--fill-color);\n",
              "      border-right-color: var(--fill-color);\n",
              "    }\n",
              "    40% {\n",
              "      border-color: transparent;\n",
              "      border-right-color: var(--fill-color);\n",
              "      border-top-color: var(--fill-color);\n",
              "    }\n",
              "    60% {\n",
              "      border-color: transparent;\n",
              "      border-right-color: var(--fill-color);\n",
              "    }\n",
              "    80% {\n",
              "      border-color: transparent;\n",
              "      border-right-color: var(--fill-color);\n",
              "      border-bottom-color: var(--fill-color);\n",
              "    }\n",
              "    90% {\n",
              "      border-color: transparent;\n",
              "      border-bottom-color: var(--fill-color);\n",
              "    }\n",
              "  }\n",
              "</style>\n",
              "\n",
              "  <script>\n",
              "    async function quickchart(key) {\n",
              "      const quickchartButtonEl =\n",
              "        document.querySelector('#' + key + ' button');\n",
              "      quickchartButtonEl.disabled = true;  // To prevent multiple clicks.\n",
              "      quickchartButtonEl.classList.add('colab-df-spinner');\n",
              "      try {\n",
              "        const charts = await google.colab.kernel.invokeFunction(\n",
              "            'suggestCharts', [key], {});\n",
              "      } catch (error) {\n",
              "        console.error('Error during call to suggestCharts:', error);\n",
              "      }\n",
              "      quickchartButtonEl.classList.remove('colab-df-spinner');\n",
              "      quickchartButtonEl.classList.add('colab-df-quickchart-complete');\n",
              "    }\n",
              "    (() => {\n",
              "      let quickchartButtonEl =\n",
              "        document.querySelector('#df-4940667c-d4ab-40e2-b301-0c15cc3e3b33 button');\n",
              "      quickchartButtonEl.style.display =\n",
              "        google.colab.kernel.accessAllowed ? 'block' : 'none';\n",
              "    })();\n",
              "  </script>\n",
              "</div>\n",
              "\n",
              "    </div>\n",
              "  </div>\n"
            ],
            "application/vnd.google.colaboratory.intrinsic+json": {
              "type": "dataframe",
              "summary": "{\n  \"name\": \"df\",\n  \"rows\": 8,\n  \"fields\": [\n    {\n      \"column\": \"pages\",\n      \"properties\": {\n        \"dtype\": \"number\",\n        \"std\": 40055.274184693044,\n        \"min\": 0.0,\n        \"max\": 100000.0,\n        \"num_unique_values\": 8,\n        \"samples\": [\n          255.01024,\n          240.0,\n          100000.0\n        ],\n        \"semantic_type\": \"\",\n        \"description\": \"\"\n      }\n    },\n    {\n      \"column\": \"rating\",\n      \"properties\": {\n        \"dtype\": \"number\",\n        \"std\": 35354.27014539349,\n        \"min\": 0.0,\n        \"max\": 100000.0,\n        \"num_unique_values\": 8,\n        \"samples\": [\n          3.8330552,\n          3.91,\n          100000.0\n        ],\n        \"semantic_type\": \"\",\n        \"description\": \"\"\n      }\n    },\n    {\n      \"column\": \"reviews\",\n      \"properties\": {\n        \"dtype\": \"number\",\n        \"std\": 61794.53030096176,\n        \"min\": 0.0,\n        \"max\": 158776.0,\n        \"num_unique_values\": 8,\n        \"samples\": [\n          181.52845,\n          15.0,\n          100000.0\n        ],\n        \"semantic_type\": \"\",\n        \"description\": \"\"\n      }\n    },\n    {\n      \"column\": \"totalratings\",\n      \"properties\": {\n        \"dtype\": \"number\",\n        \"std\": 1343704.2047822846,\n        \"min\": 0.0,\n        \"max\": 3819326.0,\n        \"num_unique_values\": 8,\n        \"samples\": [\n          2990.76427,\n          146.0,\n          100000.0\n        ],\n        \"semantic_type\": \"\",\n        \"description\": \"\"\n      }\n    }\n  ]\n}"
            }
          },
          "metadata": {},
          "execution_count": 54
        }
      ]
    },
    {
      "cell_type": "code",
      "source": [
        "# Remoção das colunas irrelevantes\n",
        "df.drop(columns=['isbn', 'isbn13', 'link'], axis=1, inplace=True)"
      ],
      "metadata": {
        "id": "U3rYN8EnprEX"
      },
      "execution_count": 55,
      "outputs": []
    },
    {
      "cell_type": "code",
      "source": [
        "df.info()"
      ],
      "metadata": {
        "colab": {
          "base_uri": "https://localhost:8080/"
        },
        "id": "t6UWxqjVqay6",
        "outputId": "5e80cf3d-916a-4ada-8ad9-c03d482ecf02"
      },
      "execution_count": 56,
      "outputs": [
        {
          "output_type": "stream",
          "name": "stdout",
          "text": [
            "<class 'pandas.core.frame.DataFrame'>\n",
            "RangeIndex: 100000 entries, 0 to 99999\n",
            "Data columns (total 10 columns):\n",
            " #   Column        Non-Null Count   Dtype  \n",
            "---  ------        --------------   -----  \n",
            " 0   author        100000 non-null  object \n",
            " 1   bookformat    96772 non-null   object \n",
            " 2   desc          93228 non-null   object \n",
            " 3   genre         89533 non-null   object \n",
            " 4   img           96955 non-null   object \n",
            " 5   pages         100000 non-null  int64  \n",
            " 6   rating        100000 non-null  float64\n",
            " 7   reviews       100000 non-null  int64  \n",
            " 8   title         99999 non-null   object \n",
            " 9   totalratings  100000 non-null  int64  \n",
            "dtypes: float64(1), int64(3), object(6)\n",
            "memory usage: 7.6+ MB\n"
          ]
        }
      ]
    },
    {
      "cell_type": "code",
      "source": [
        "df = df.dropna(subset=['rating', 'totalratings'])"
      ],
      "metadata": {
        "id": "sM-FcC0qptyv"
      },
      "execution_count": 57,
      "outputs": []
    },
    {
      "cell_type": "code",
      "source": [
        "# Agregar por [autor, título], remover duplicatas criando nova avaliação\n",
        "grouped_df = df.groupby(['author', 'title'], as_index=False).agg({\n",
        "    'bookformat': 'first',\n",
        "    'desc': 'first',\n",
        "    'genre': 'first',\n",
        "    'img': 'first',\n",
        "    'pages': 'first',\n",
        "    'reviews': 'sum',\n",
        "    'totalratings': 'sum',\n",
        "    'rating': lambda x: (x * df.loc[x.index, 'totalratings']).sum() / df.loc[x.index, 'totalratings'].sum()  # Média ponderada das avaliações duplicadas\n",
        "})\n",
        "\n",
        "df = grouped_df"
      ],
      "metadata": {
        "colab": {
          "base_uri": "https://localhost:8080/"
        },
        "id": "Uq_OcihdgYps",
        "outputId": "fc620be1-f8f5-430c-cbbe-371eb72a83d1"
      },
      "execution_count": 58,
      "outputs": [
        {
          "output_type": "stream",
          "name": "stderr",
          "text": [
            "<ipython-input-58-2e2bdd237ccd>:10: RuntimeWarning: invalid value encountered in scalar divide\n",
            "  'rating': lambda x: (x * df.loc[x.index, 'totalratings']).sum() / df.loc[x.index, 'totalratings'].sum()  # Média ponderada das avaliações duplicadas\n"
          ]
        }
      ]
    },
    {
      "cell_type": "code",
      "source": [
        "# Checar existência de valores NaN por coluna\n",
        "missing_percentage = df.isnull().mean() * 100\n",
        "print(missing_percentage)"
      ],
      "metadata": {
        "colab": {
          "base_uri": "https://localhost:8080/"
        },
        "id": "Gkxn81K0hLi8",
        "outputId": "01c5fb56-5fed-4077-9a40-8842397336f9"
      },
      "execution_count": 59,
      "outputs": [
        {
          "output_type": "stream",
          "name": "stdout",
          "text": [
            "author           0.000000\n",
            "title            0.000000\n",
            "bookformat       3.177955\n",
            "desc             6.728257\n",
            "genre           10.470738\n",
            "img              3.042830\n",
            "pages            0.000000\n",
            "reviews          0.000000\n",
            "totalratings     0.000000\n",
            "rating           1.559450\n",
            "dtype: float64\n"
          ]
        }
      ]
    },
    {
      "cell_type": "markdown",
      "source": [
        "**Como a única coluna onde mais de 10% dos valores são NaN é gênero, podemos converter seus elementos vazios para string vazia e depois transformar todos em listas.**\n",
        "\n",
        "---\n",
        "\n"
      ],
      "metadata": {
        "id": "UHWZ8T26jeMg"
      }
    },
    {
      "cell_type": "code",
      "source": [
        "print(df['genre'][1])"
      ],
      "metadata": {
        "colab": {
          "base_uri": "https://localhost:8080/"
        },
        "id": "4lkiRVvhkNrW",
        "outputId": "71053ce2-2972-48ca-8f08-3d384a8fb71d"
      },
      "execution_count": 60,
      "outputs": [
        {
          "output_type": "stream",
          "name": "stdout",
          "text": [
            "History,European Literature,German Literature,Reference,Dictionaries\n"
          ]
        }
      ]
    },
    {
      "cell_type": "code",
      "source": [
        "# Trocar NaN por string vazia\n",
        "df['genre'] = df['genre'].fillna('')\n",
        "\n",
        "# Converter elementos da coluna de gênero por lista, divindo as string por vírgula\n",
        "df['genre'] = df['genre'].apply(lambda x: [genre.strip() for genre in x.split(',')] if x else [])"
      ],
      "metadata": {
        "id": "NrnfEK-zk6QU"
      },
      "execution_count": 61,
      "outputs": []
    },
    {
      "cell_type": "code",
      "source": [
        "print(df['genre'][1])"
      ],
      "metadata": {
        "colab": {
          "base_uri": "https://localhost:8080/"
        },
        "id": "NQjdHzc4lUlr",
        "outputId": "bae646e7-0f2e-455d-d404-724910273212"
      },
      "execution_count": 62,
      "outputs": [
        {
          "output_type": "stream",
          "name": "stdout",
          "text": [
            "['History', 'European Literature', 'German Literature', 'Reference', 'Dictionaries']\n"
          ]
        }
      ]
    },
    {
      "cell_type": "markdown",
      "source": [
        "**Assim, os dados estão prontos para serem usados.**\n",
        "\n",
        "\n",
        "---\n",
        "\n",
        "\n",
        "\n"
      ],
      "metadata": {
        "id": "3oaYhdIHlcb1"
      }
    }
  ]
}